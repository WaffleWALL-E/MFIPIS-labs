{
 "cells": [
  {
   "cell_type": "code",
   "execution_count": 1,
   "metadata": {},
   "outputs": [],
   "source": [
    "import math"
   ]
  },
  {
   "cell_type": "code",
   "execution_count": 2,
   "metadata": {},
   "outputs": [],
   "source": [
    "# словарь вида {строковый символ : его числовой аналог}\n",
    "str2num = {chr(letter_ord) : (letter_ord - ord(\"A\") + 10) for letter_ord in range(ord(\"A\"), ord(\"Z\") + 1)}\n",
    "for digit in \"0123456789\":\n",
    "    str2num[digit] = int(digit)\n",
    "# словарь вида {число : его стокровый аналог}\n",
    "num2str = {value : key for (key, value) in str2num.items()}"
   ]
  },
  {
   "cell_type": "code",
   "execution_count": 9,
   "metadata": {},
   "outputs": [],
   "source": [
    "def fill0(u, n, array = False):\n",
    "    \"\"\"\n",
    "    Добавляет ведущие нули к числу u до разрядности n; \n",
    "    array = True, если число u передано в виде массива чисел\n",
    "    \"\"\"\n",
    "    result = [0] * (n - len(u))\n",
    "    if array:\n",
    "        result.extend(u)\n",
    "        return result\n",
    "    return \"\".join([str(i) for i in result]) + u"
   ]
  },
  {
   "cell_type": "markdown",
   "metadata": {},
   "source": [
    "# 1. Сложение неотрицательных целых чисел"
   ]
  },
  {
   "cell_type": "code",
   "execution_count": 11,
   "metadata": {},
   "outputs": [],
   "source": [
    "def addition(u_str, v_str, b):\n",
    "    \"\"\"\n",
    "    Складывает два неотрицательных числа в системе счисления b, \n",
    "    u_str и v_str, представленных в строчном виде\n",
    "    \"\"\"\n",
    "    # представляем числа в виде массивов чисел\n",
    "    u = [str2num[letter] for letter in u_str]\n",
    "    v = [str2num[letter] for letter in v_str]\n",
    "\n",
    "    if len(u) != len(v): # если разрядности чисел не совпадают..\n",
    "        # добавляем к меньшему числу ведущие нули\n",
    "        if len(u) < len(v): u = fill0(u, len(v), True)\n",
    "        else: v = fill0(v, len(u), True)\n",
    "\n",
    "    # n - разрядность числа, k следит за переносом\n",
    "    # шаг 1\n",
    "    n = len(u); k = 0\n",
    "    w = [] # сумма\n",
    "\n",
    "    for j in range(n - 1, -1, -1):             #\n",
    "        w.append(((u[j] + v[j] + k) % b))      # шаг 2-3\n",
    "        k = math.floor((u[j] + v[j] + k) / b)  #\n",
    "\n",
    "    w.append(k); w.reverse() # шаг 3\n",
    "    # преобразуем результат в виде массива в строчный вид\n",
    "    return \"\".join([num2str[digit] for digit in w])"
   ]
  },
  {
   "cell_type": "code",
   "execution_count": 12,
   "metadata": {},
   "outputs": [
    {
     "name": "stdout",
     "output_type": "stream",
     "text": [
      "01888\n",
      "101000\n",
      "0FB4E\n"
     ]
    }
   ],
   "source": [
    "print(addition(\"321\", \"1567\", 10))\n",
    "print(addition(\"01101\", \"11011\", 2))\n",
    "print(addition(\"B081\", \"4ACD\", 16))"
   ]
  },
  {
   "cell_type": "markdown",
   "metadata": {},
   "source": [
    "# 2. Вычитание неотрицательных целых чисел"
   ]
  },
  {
   "cell_type": "code",
   "execution_count": 13,
   "metadata": {},
   "outputs": [],
   "source": [
    "def subtraction(u_str, v_str, b):\n",
    "    \"\"\"\n",
    "    Вычитает число v_str из u_str, представленных в строчном виде,\n",
    "    в системе счисления b\n",
    "    \"\"\"\n",
    "    # представляем числа в виде массивов чисел\n",
    "    u = [str2num[letter] for letter in u_str]\n",
    "    v = [str2num[letter] for letter in v_str]\n",
    "\n",
    "    # если разрядности чисел не совпадают..\n",
    "    if len(u) != len(v):\n",
    "        # добавляем к меньшему числу ведущие нули\n",
    "        if len(u) < len(v): u = fill0(u, len(v), True)\n",
    "        else: v = fill0(v, len(u), True)\n",
    "    elif u < v: # если u меньше v\n",
    "        return \"u должно быть больше v\"\n",
    "\n",
    "    # n - разрядность числа, k следит за переносом,\n",
    "    # w - разность\n",
    "    n = len(u); w = []; k = 0 # шаг 1\n",
    "\n",
    "    for j in range(n - 1, -1, -1):             #\n",
    "        w.append(((u[j] - v[j] + k) % b))      # шаг 2-3\n",
    "        k = math.floor((u[j] - v[j] + k) / b)  #\n",
    "\n",
    "    w.reverse() # записываем массив в обратном порядке\n",
    "\n",
    "    # преобразуем результат в виде массива в строчный вид\n",
    "    return \"\".join([num2str[digit] for digit in w])"
   ]
  },
  {
   "cell_type": "code",
   "execution_count": 14,
   "metadata": {},
   "outputs": [
    {
     "name": "stdout",
     "output_type": "stream",
     "text": [
      "678\n",
      "01110\n",
      "DB86\n"
     ]
    }
   ],
   "source": [
    "print(subtraction(\"789\", \"111\", 10))\n",
    "print(subtraction(\"11001\", \"01011\", 2))\n",
    "print(subtraction(\"F630\", \"1AAA\", 16))"
   ]
  },
  {
   "cell_type": "markdown",
   "metadata": {},
   "source": [
    "# 3. Умножение неотрицательных целых чисел столбиком"
   ]
  },
  {
   "cell_type": "code",
   "execution_count": 15,
   "metadata": {},
   "outputs": [],
   "source": [
    "def multiply_column(u_str, v_str, b):\n",
    "    \"\"\"\n",
    "    Умножает столбиком два неотрицательных числа \n",
    "    в системе счисления b, u_str и v_str, \n",
    "    представленных в строчном виде\n",
    "    \"\"\"\n",
    "    # представляем числа в виде массивов чисел\n",
    "    u = [str2num[letter] for letter in u_str]\n",
    "    v = [str2num[letter] for letter in v_str]\n",
    "\n",
    "    # n - разрядность u, \n",
    "    # m - разрядность v\n",
    "    n = len(u); m = len(v)\n",
    "    # произведение\n",
    "    w = [0] * (m + n) # шаг 1\n",
    "\n",
    "    # шаг 2 опускаем, поскольку весь массив w \n",
    "    # изначально заполнен нулями\n",
    "\n",
    "    for j in range(m - 1, -1, -1):                   \n",
    "        if v[j] != 0:                                \n",
    "            k = 0    # шаг 3     \n",
    "            for i in range(n - 1, -1, -1):           #\n",
    "                t = u[i] * v[j] + w[i + j + 1] + k   # шаг 4 \n",
    "                w[i + j + 1] = t % b                 #\n",
    "                k = math.floor(t / b)                #\n",
    "            w[j] = k # шаг 5                         \n",
    "\n",
    "    # преобразуем результат в виде массива в строчный вид\n",
    "    return \"\".join([num2str[digit] for digit in w]) # шаг 6"
   ]
  },
  {
   "cell_type": "code",
   "execution_count": 16,
   "metadata": {},
   "outputs": [
    {
     "name": "stdout",
     "output_type": "stream",
     "text": [
      "0958818\n",
      "1010000011100\n",
      "3A4A9CFDFC\n"
     ]
    }
   ],
   "source": [
    "print(multiply_column(\"777\", \"1234\", 10))\n",
    "print(multiply_column(\"1101\", \"110001100\", 2))\n",
    "print(multiply_column(\"FD76\", \"3AE01A\", 16))"
   ]
  },
  {
   "cell_type": "markdown",
   "metadata": {},
   "source": [
    "# 4. Быстрый столбик"
   ]
  },
  {
   "cell_type": "code",
   "execution_count": 17,
   "metadata": {},
   "outputs": [],
   "source": [
    "def multiply_quick(u_str, v_str, b):\n",
    "    \"\"\"\n",
    "    Умножает быстрым столбиком два неотрицательных числа \n",
    "    в системе счисления b, u_str и v_str, \n",
    "    представленных в строчном виде\n",
    "    \"\"\"\n",
    "    # представляем числа в виде массивов чисел\n",
    "    u = [str2num[letter] for letter in u_str]\n",
    "    v = [str2num[letter] for letter in v_str]\n",
    "\n",
    "    # n - разрядность u, \n",
    "    # m - разрядность v\n",
    "    n = len(u); m = len(v)\n",
    "    # произведение\n",
    "    w = [0] * (m + n)\n",
    "\n",
    "    t = 0 # шаг 1\n",
    "    for s in range(0, m + n): # шаг 2\n",
    "        for i in range(0, s + 1):                                 #\n",
    "            if (0 <= n - i - 1 < n) and (0 <= m - s + i - 1 < m): # шаг 3\n",
    "                t = t + u[n - i - 1] * v[m - s + i - 1]           #\n",
    "        w[m + n - s - 1] = t % b #\n",
    "        t = math.floor(t / b)    # шаг 4\n",
    "\n",
    "    # преобразуем результат в виде массива в строчный вид\n",
    "    return \"\".join([num2str[digit] for digit in w])"
   ]
  },
  {
   "cell_type": "code",
   "execution_count": 18,
   "metadata": {},
   "outputs": [
    {
     "name": "stdout",
     "output_type": "stream",
     "text": [
      "0958818\n",
      "1010000011100\n",
      "3A4A9CFDFC\n"
     ]
    }
   ],
   "source": [
    "print(multiply_quick(\"777\", \"1234\", 10))\n",
    "print(multiply_quick(\"1101\", \"110001100\", 2))\n",
    "print(multiply_quick(\"FD76\", \"3AE01A\", 16))"
   ]
  },
  {
   "cell_type": "markdown",
   "metadata": {},
   "source": [
    "# 5. Деление многоразрядных целых чисел"
   ]
  },
  {
   "cell_type": "code",
   "execution_count": 19,
   "metadata": {},
   "outputs": [],
   "source": [
    "def to10(u_str, b, array = False):\n",
    "    \"\"\"\n",
    "    Переводит число u_str в системе счисления b\n",
    "    в десятичную систему исчисления;\n",
    "    array = True, если число u передано в виде массива чисел\n",
    "    \"\"\"\n",
    "    u_array = u_str if array else [str2num[letter] for letter in u_str]\n",
    "    u = 0\n",
    "    for i in range(len(u_array)):\n",
    "        u += (b ** i) * u_array[len(u_array) - i - 1]\n",
    "    return u\n",
    "\n",
    "def to_b(number, b, n = 1):\n",
    "    \"\"\"\n",
    "    Переводит десятичное число number в систему счисления\n",
    "    с основанием b; n - минимальная разрядность \n",
    "    результирующей записи числа    \n",
    "    \"\"\"\n",
    "    # будем последовательно делить number на b и сохранять остатки\n",
    "    # q - очередное частое, r - очередной остаток\n",
    "    # w - результат, в который поелсдовательно записываем остатки \n",
    "    (q, r) = (math.floor(number / b), number % b); w = num2str[r]\n",
    "\n",
    "    # пока частоное больше основания системы счисления\n",
    "    while q >= b:\n",
    "        # продолжаем деление\n",
    "        (q, r) = (math.floor(q / b), q % b)\n",
    "        w = w + num2str[r]\n",
    "\n",
    "    # если частное ненулевое, тоже добавляем его в результат\n",
    "    if q != 0: w = w + num2str[q]\n",
    "\n",
    "    # если разрядность меньше желаемой..\n",
    "    while len(w) < n:\n",
    "        # добавляем ведущие нули\n",
    "        w = w + \"0\"\n",
    "    \n",
    "    # записываем число в обратном порядке\n",
    "    return w[::-1]\n",
    "\n",
    "def trim_zero(a):\n",
    "    \"\"\"\n",
    "    Удаляет ведущие нули числа a\n",
    "    \"\"\"\n",
    "    while a[0] == '0' and len(a) > 1:\n",
    "        a = a[1:]\n",
    "    return a"
   ]
  },
  {
   "cell_type": "code",
   "execution_count": 20,
   "metadata": {},
   "outputs": [],
   "source": [
    "def division(u_str, v_str, b):\n",
    "    \"\"\"\n",
    "    Производит деление целых неотрицательных чисел, \n",
    "    записанных в строчном виде (u_str на v_str),\n",
    "    в системе счисления с основанием b\n",
    "    Результат: (q, r), где q - частное, r - остаток\n",
    "    \"\"\"\n",
    "    u = u_str; v = v_str\n",
    "    n = len(u) - 1; t = len(v) - 1 # разрядности чисел\n",
    "\n",
    "    # проверка условий\n",
    "    if v[0] == 0 or not (n >= t >= 1):\n",
    "        return \"Некорректные входные данные\"\n",
    "\n",
    "    q = [0] * (n - t + 1) # шаг 1\n",
    "\n",
    "    while to10(u, b) >= to10(v, b) * (b ** (n - t)): #\n",
    "        q[n - t] = q[n - t] + 1                      #\n",
    "        a = to_b(b ** (n - t), b)                    # шаг 2\n",
    "        a = multiply_column(v, a, b)                 #\n",
    "        u = subtraction(u, a, b)                     #\n",
    "        if len(u) > len(u_str):              # сохраняем начальную\n",
    "            u = u[1:] if u[0] == '0' else u  # разрядность числа\n",
    "    \n",
    "    # переводим числа в вид массивов\n",
    "    u = [str2num[letter] for letter in u]\n",
    "    v = [str2num[letter] for letter in v_str]\n",
    "\n",
    "    for i in range(n, t, -1): # шаг 3\n",
    "        if u[n - i] >= v[0]:       #\n",
    "            q[i - t - 1] = b - 1   # шаг 3.1.\n",
    "        else:                      #\n",
    "            q[i - t - 1] = math.floor((u[n - i] * b + u[n - i + 1]) / v[0])\n",
    "\n",
    "        # шаг 3.2\n",
    "        while q[i - t - 1] * (v[0] * b + v[1]) > u[n - i] * (b ** 2) + u[n - i + 1] * b + u[n - i + 2]:\n",
    "            q[i - t - 1] = q[i - t - 1] - 1\n",
    "        \n",
    "        u_10 = to10(u, b, True); v_10 = to10(v, b, True) #\n",
    "        a = v_10 * q[i - t - 1] * (b ** (i - t - 1))     # шаг 3.3\n",
    "        u_10 = u_10 - a                                  #\n",
    "\n",
    "        if u_10 < 0:                                     #\n",
    "            u_10 = u_10 + v_10 * (b ** (i - t - 1))      # шаг 3.4\n",
    "            q[i - t - 1] = q[i - t - 1] - 1              #\n",
    "\n",
    "        # возвращаем число u в систему с основанием b\n",
    "        u = to_b(u_10, b, n + 1); u = [str2num[letter] for letter in u]\n",
    "\n",
    "    # преобразуем массивы обратно в строки\n",
    "    (q, r) = (\"\".join([num2str[digit] for digit in q]), \"\".join([num2str[digit] for digit in u]))\n",
    "\n",
    "    # удаляем ведущие нули и записываем частное в обратном порядке\n",
    "    return (trim_zero(q[::-1]), trim_zero(r))"
   ]
  },
  {
   "cell_type": "code",
   "execution_count": 21,
   "metadata": {},
   "outputs": [
    {
     "name": "stdout",
     "output_type": "stream",
     "text": [
      "('66', '10')\n",
      "('110110', '1011')\n",
      "('35F', '1E2')\n"
     ]
    }
   ],
   "source": [
    "print(division(\"1000\", \"15\", 10))\n",
    "print(division(\"1111010111\", \"10010\", 2)) # 983 / 18 = (54, 11)\n",
    "print(division(\"76870\", \"232\", 16)) # 485,488 / 562 = (863, 482)"
   ]
  }
 ],
 "metadata": {
  "interpreter": {
   "hash": "8cf50a1ebd007e3a5e0b436c2cd28c8d814512b11b6959a47dcb377c93a97cc5"
  },
  "kernelspec": {
   "display_name": "Python 3.7.5 64-bit (system)",
   "language": "python",
   "name": "python3"
  },
  "language_info": {
   "codemirror_mode": {
    "name": "ipython",
    "version": 3
   },
   "file_extension": ".py",
   "mimetype": "text/x-python",
   "name": "python",
   "nbconvert_exporter": "python",
   "pygments_lexer": "ipython3",
   "version": "3.7.5"
  },
  "orig_nbformat": 4
 },
 "nbformat": 4,
 "nbformat_minor": 2
}
