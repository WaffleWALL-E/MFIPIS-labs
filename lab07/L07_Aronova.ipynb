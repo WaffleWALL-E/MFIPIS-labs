{
 "cells": [
  {
   "cell_type": "code",
   "execution_count": 1,
   "metadata": {},
   "outputs": [],
   "source": [
    "import math\n",
    "import numpy as np"
   ]
  },
  {
   "cell_type": "code",
   "execution_count": 2,
   "metadata": {},
   "outputs": [],
   "source": [
    "def multiplicative_order(a, n):\n",
    "    \"\"\"\n",
    "    Вычисляет порядок числа a по модулю n\n",
    "    \"\"\"\n",
    "    k = 1; flag = True # начнем перебор с единицы\n",
    "\n",
    "    while flag:\n",
    "        if (a ** k - 1) % n == 0: # если порядок найден\n",
    "            flag = False # \"опускаем\" флаг и выходим из цикла\n",
    "        else: # иначе\n",
    "            k += 1 # увеличиваем порядок на единицу\n",
    "\n",
    "    return k"
   ]
  },
  {
   "cell_type": "code",
   "execution_count": 3,
   "metadata": {},
   "outputs": [
    {
     "name": "stdout",
     "output_type": "stream",
     "text": [
      "53\n",
      "4\n"
     ]
    }
   ],
   "source": [
    "print(multiplicative_order(10, 107))\n",
    "print(multiplicative_order(2, 15))"
   ]
  },
  {
   "cell_type": "code",
   "execution_count": 4,
   "metadata": {},
   "outputs": [],
   "source": [
    "def euclidean_algorithm_extended(a, b):\n",
    "    \"\"\"\n",
    "    Находит d = НОД(a, b), а также такие целые числа x и y, что ax + by = d, с помощью расширенного алгоритма Евклида\n",
    "    \"\"\"\n",
    "    (a, b) = (int(a), int(b))\n",
    "\n",
    "    reversed = True if abs(b) > abs(a) else False # флаг\n",
    "    (a, b) = (b, a) if reversed else (a, b) # меняем местами a и b, если нужно\n",
    "\n",
    "    (r, x, y) = ([a, b], [1, 0], [0, 1]) # шаг 1\n",
    "\n",
    "    while r[1] != 0: \n",
    "        (r[0], r[1], q) = (r[1], r[0] % r[1], r[0] // r[1])\n",
    "\n",
    "        if r[1] != 0: # если остаток ещё не нулевой..\n",
    "            (x[0], x[1]) = (x[1], x[0] - q * x[1])\n",
    "            (y[0], y[1]) = (y[1], y[0] - q * y[1])\n",
    "\n",
    "    (d, x_r, y_r) = (r[0], x[1], y[1])\n",
    "\n",
    "    if reversed: # если a и b были в неправильном порядке\n",
    "        (x_r, y_r) = (y_r, x_r) # меняем найденные коэффициенты местами\n",
    "\n",
    "    return (d, x_r, y_r)\n",
    "\n",
    "def solve_congruence(c, d, p):\n",
    "    \"\"\"\n",
    "    Решает сравнение вида k_1 * x + b_1 = k_2 * x + b_2 (mod p), где\n",
    "    c = (k_1, b_1), d = (k_2, b_2)\n",
    "    \"\"\"\n",
    "    (k_1, b_1) = c; (k_2, b_2) = d # получаем коэффициенты\n",
    "\n",
    "    k = k_1 - k_2; b = b_2 - b_1 # kx = b (mod p)\n",
    "    (gcd, k_inverse, _) = euclidean_algorithm_extended(k, p) # k * k_inverse = gcd (mod p)\n",
    "\n",
    "    if gcd == 1: # если k и p - взаимно простые..\n",
    "        return (b * k_inverse) % p\n",
    "    else: # иначе\n",
    "        k = int(k / gcd); b = int(b / gcd) # делим сравнение на gcd\n",
    "        (_, k_inverse, _) = euclidean_algorithm_extended(k, int(p / gcd))\n",
    "\n",
    "        return (b * k_inverse) % p"
   ]
  },
  {
   "cell_type": "code",
   "execution_count": 5,
   "metadata": {},
   "outputs": [],
   "source": [
    "def pollard_rho_dlog(a, b, p, def0 = True, to_print = False):\n",
    "    \"\"\"\n",
    "    Решает сравнение a^x = b (mod p) ро-методом Полларда;\n",
    "    def0 = True, если нужно использовать начальные значения u и v по умолчанию, и False, если их нужно определить случайно;\n",
    "    to_print = True, если нужно вывести на экран ход алгоритма\n",
    "    \"\"\"\n",
    "    r = multiplicative_order(a, p) # порядок числа а\n",
    "    half_p = math.floor(p / 2) # p / 2\n",
    "\n",
    "    # отображение f\n",
    "    f = \"({a} * x % {p}) if x < {half} else ({b} * x % {p})\".format(a = a, p = p, half = half_p, b = b)\n",
    "\n",
    "    # начальные значения u и v\n",
    "    (u, v) = (2, 2) if def0 else (np.random.randint(1, half_p), np.random.randint(1, half_p))\n",
    "\n",
    "    if not def0 and to_print:\n",
    "        print(\"(u, v) = ({}, {})\".format(u, v))\n",
    "\n",
    "    c = ((a ** u) * (b ** v)) % p #  \n",
    "    d = c                         #\n",
    "                                  # шаг 1\n",
    "    (k_c, l_c) = (u, v)           # \n",
    "    (k_d, l_d) = (u, v)           #\n",
    "\n",
    "    if to_print:\n",
    "        print(\"{:^10} | {:^10} | {:^10} | {:^10}\".format(\"c\", \"log_c\", \"d\", \"log_d\"))\n",
    "        print(\"{:^10} | {:^10} | {:^10} | {:^10}\".format(\"----------\", \"----------\", \"----------\", \"----------\"))\n",
    "        print(\"{:^10} | {:^3} + {:^3}x | {:^10} | {:^3} + {:^3}x\".format(c, l_c, k_c, d, l_d, k_d))\n",
    "\n",
    "    while True:\n",
    "        # вычисляем f(c) \n",
    "        # и log_a f(c)\n",
    "        x = c             #\n",
    "        if x < half_p:    #\n",
    "            l_c += 1      #\n",
    "        else:             #\n",
    "            k_c += 1      #\n",
    "        c = eval(f)       #\n",
    "                          #\n",
    "        # вычисляем f(c)  #\n",
    "        # и log_a f(c)    #\n",
    "        x = d             #  шаг 2\n",
    "        if x < half_p:    #\n",
    "            l_d += 1      #\n",
    "        else:             #\n",
    "            k_d += 1      #\n",
    "        x = eval(f)       #\n",
    "        if x < half_p:    #\n",
    "            l_d += 1      #\n",
    "        else:             #\n",
    "            k_d += 1      #\n",
    "        d = eval(f)       #\n",
    "\n",
    "        if to_print:\n",
    "            print(\"{:^10} | {:^3} + {:^3}x | {:^10} | {:^3} + {:^3}x\".format(c, l_c, k_c, d, l_d, k_d))\n",
    "\n",
    "        # шаг 3\n",
    "        if c == d:\n",
    "            # приравниваем логарифмы и решаем сравнение\n",
    "            result = solve_congruence((k_c, l_c), (k_d, l_d), r)\n",
    "\n",
    "            if (a ** result - b) % p == 0: # проверка\n",
    "                return result\n",
    "            else:\n",
    "                return 0"
   ]
  },
  {
   "cell_type": "code",
   "execution_count": 6,
   "metadata": {},
   "outputs": [
    {
     "name": "stdout",
     "output_type": "stream",
     "text": [
      "    c      |   log_c    |     d      |   log_d   \n",
      "---------- | ---------- | ---------- | ----------\n",
      "    4      |  2  +  2 x |     4      |  2  +  2 x\n",
      "    40     |  3  +  2 x |     79     |  4  +  2 x\n",
      "    79     |  4  +  2 x |     56     |  5  +  3 x\n",
      "    27     |  4  +  3 x |     75     |  5  +  5 x\n",
      "    56     |  5  +  3 x |     3      |  5  +  7 x\n",
      "    53     |  5  +  4 x |     86     |  7  +  7 x\n",
      "    75     |  5  +  5 x |     42     |  8  +  8 x\n",
      "    92     |  5  +  6 x |     23     |  9  +  9 x\n",
      "    3      |  5  +  7 x |     53     | 11  +  9 x\n",
      "    30     |  6  +  7 x |     92     | 11  + 11 x\n",
      "    86     |  7  +  7 x |     30     | 12  + 12 x\n",
      "    47     |  7  +  8 x |     47     | 13  + 13 x\n"
     ]
    },
    {
     "data": {
      "text/plain": [
       "20"
      ]
     },
     "execution_count": 6,
     "metadata": {},
     "output_type": "execute_result"
    }
   ],
   "source": [
    "pollard_rho_dlog(10, 64, 107, True, True)"
   ]
  },
  {
   "cell_type": "code",
   "execution_count": 10,
   "metadata": {},
   "outputs": [
    {
     "name": "stdout",
     "output_type": "stream",
     "text": [
      "(u, v) = (7, 3)\n",
      "    c      |   log_c    |     d      |   log_d   \n",
      "---------- | ---------- | ---------- | ----------\n",
      "    22     |  3  +  7 x |     22     |  3  +  7 x\n",
      "    20     |  3  +  8 x |     14     |  3  +  9 x\n",
      "    14     |  3  +  9 x |     11     |  3  + 11 x\n",
      "    19     |  3  + 10 x |     4      |  4  + 12 x\n",
      "    11     |  3  + 11 x |     14     |  5  + 13 x\n",
      "    10     |  3  + 12 x |     11     |  5  + 15 x\n",
      "    4      |  4  + 12 x |     4      |  6  + 16 x\n"
     ]
    },
    {
     "data": {
      "text/plain": [
       "16"
      ]
     },
     "execution_count": 10,
     "metadata": {},
     "output_type": "execute_result"
    }
   ],
   "source": [
    "pollard_rho_dlog(5, 3, 23, False, True)"
   ]
  },
  {
   "cell_type": "code",
   "execution_count": 11,
   "metadata": {},
   "outputs": [
    {
     "data": {
      "text/plain": [
       "3"
      ]
     },
     "execution_count": 11,
     "metadata": {},
     "output_type": "execute_result"
    }
   ],
   "source": [
    "pollard_rho_dlog(29, 479, 797, True, False)"
   ]
  }
 ],
 "metadata": {
  "interpreter": {
   "hash": "8cf50a1ebd007e3a5e0b436c2cd28c8d814512b11b6959a47dcb377c93a97cc5"
  },
  "kernelspec": {
   "display_name": "Python 3.7.5 64-bit (system)",
   "language": "python",
   "name": "python3"
  },
  "language_info": {
   "codemirror_mode": {
    "name": "ipython",
    "version": 3
   },
   "file_extension": ".py",
   "mimetype": "text/x-python",
   "name": "python",
   "nbconvert_exporter": "python",
   "pygments_lexer": "ipython3",
   "version": "3.7.5"
  },
  "orig_nbformat": 4
 },
 "nbformat": 4,
 "nbformat_minor": 2
}
