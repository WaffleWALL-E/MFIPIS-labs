{
 "cells": [
  {
   "cell_type": "markdown",
   "metadata": {},
   "source": [
    "# 1. Алгоритм Евклида"
   ]
  },
  {
   "cell_type": "code",
   "execution_count": 1,
   "metadata": {},
   "outputs": [],
   "source": [
    "def euclidean_algorithm(a, b):\n",
    "    \"\"\"\n",
    "    Находит НОД чисел a и b с помощью алгоритма Евклида\n",
    "    \"\"\"\n",
    "    # убеждаемся, что числа - целые и положительные\n",
    "    (a, b) = (abs(int(a)), abs(int(b))) \n",
    "\n",
    "    # по условнию 0 < b <= a, поэтому\n",
    "    if b > a: # если оно не выполняется\n",
    "        (a, b) = (b, a) # меняем a и b местами \n",
    "    \n",
    "    # поскольку на каждом шаге мы используем только два значения,\n",
    "    # сохранять будем только их\n",
    "    r = [a, b] # шаг 1; задаем r0 и r1\n",
    "\n",
    "    # шаги 2-3\n",
    "    while r[1] != 0: # пока r_{i+1} не равно нулю\n",
    "        # находим очередной остаток от деления и \n",
    "        # имитируем увеличение индекса, сдвигая значения\n",
    "        (r[0], r[1]) = (r[1], r[0] % r[1]) \n",
    "\n",
    "    return r[0] # шаг 4; d = r_i"
   ]
  },
  {
   "cell_type": "code",
   "execution_count": 2,
   "metadata": {},
   "outputs": [
    {
     "name": "stdout",
     "output_type": "stream",
     "text": [
      "НОД(12345, 24690) = 12345\n",
      "НОД(12345, 54321) = 3\n",
      "НОД(12345, 12541) = 1\n",
      "НОД(99, 121) = 11\n"
     ]
    }
   ],
   "source": [
    "print(\"НОД({}, {}) = {}\".format(12345, 24690, euclidean_algorithm(12345, 24690)))\n",
    "print(\"НОД({}, {}) = {}\".format(12345, 54321, euclidean_algorithm(12345, 54321)))\n",
    "print(\"НОД({}, {}) = {}\".format(12345, 12541, euclidean_algorithm(12345, 12541)))\n",
    "print(\"НОД({}, {}) = {}\".format(99, 121, euclidean_algorithm(99, 121)))"
   ]
  },
  {
   "cell_type": "markdown",
   "metadata": {},
   "source": [
    "# 2. Бинарный алгоритм Евклида"
   ]
  },
  {
   "cell_type": "code",
   "execution_count": 3,
   "metadata": {},
   "outputs": [],
   "source": [
    "def is_even(a):\n",
    "    \"\"\"\n",
    "    Проверяет чётность числа a\n",
    "    \"\"\"\n",
    "    return (True if a % 2 == 0 else False)\n",
    "\n",
    "def euclidean_algorithm_binary(a, b):\n",
    "    \"\"\"\n",
    "    Находит НОД чисел a и b с помощью бинарного алгоритма Евклида\n",
    "    \"\"\"\n",
    "    # убеждаемся, что числа - целые и положительные\n",
    "    (a, b) = (abs(int(a)), abs(int(b)))\n",
    "\n",
    "    # убеждаемся, что выполняется условие 0 < b <= a\n",
    "    if b > a:\n",
    "        (a, b) = (b, a)\n",
    "\n",
    "    g = 1 # шаг 1\n",
    "\n",
    "    # шаг 2; пока числа a и b чётные\n",
    "    while is_even(a) and is_even(b):\n",
    "        (a, b, g) = (int(a / 2), int(b / 2), 2 * g)\n",
    "\n",
    "    (u, v) = (a, b) # шаг 3\n",
    "\n",
    "    # шаг 4\n",
    "    while u != 0:\n",
    "        # шаг 4.1\n",
    "        while is_even(u): # пока u - чётное\n",
    "            u = int(u / 2)\n",
    "\n",
    "        # шаг 4.2\n",
    "        while is_even(v): # пока v - чётное\n",
    "            v = int(v / 2)\n",
    "\n",
    "        # шаг 4.3\n",
    "        if u >= v:\n",
    "            u -= v\n",
    "        else:\n",
    "            v -= u\n",
    "\n",
    "    return g * v # шаги 5-6"
   ]
  },
  {
   "cell_type": "code",
   "execution_count": 4,
   "metadata": {},
   "outputs": [
    {
     "name": "stdout",
     "output_type": "stream",
     "text": [
      "НОД(12345, 24690) = 12345\n",
      "НОД(12345, 54321) = 3\n",
      "НОД(12345, 12541) = 1\n",
      "НОД(24, 56) = 8\n"
     ]
    }
   ],
   "source": [
    "print(\"НОД({}, {}) = {}\".format(12345, 24690, euclidean_algorithm_binary(12345, 24690)))\n",
    "print(\"НОД({}, {}) = {}\".format(12345, 54321, euclidean_algorithm_binary(12345, 54321)))\n",
    "print(\"НОД({}, {}) = {}\".format(12345, 12541, euclidean_algorithm_binary(12345, 12541)))\n",
    "print(\"НОД({}, {}) = {}\".format(24, 56, euclidean_algorithm_binary(24, 56)))"
   ]
  },
  {
   "cell_type": "markdown",
   "metadata": {},
   "source": [
    "# 3. Расширенный алгоритм Евклида"
   ]
  },
  {
   "cell_type": "code",
   "execution_count": 5,
   "metadata": {},
   "outputs": [],
   "source": [
    "def euclidean_algorithm_extended(a, b):\n",
    "    \"\"\"\n",
    "    Находит d = НОД(a, b), а также такие целые числа x и y, что ax + by = d, с помощью расширенного алгоритма Евклида\n",
    "    \"\"\"\n",
    "    # убеждаемся, что числа - целые и положительные\n",
    "    (a, b) = (abs(int(a)), abs(int(b)))\n",
    "\n",
    "    # убеждаемся, что выполняется условие 0 < b <= a\n",
    "    reversed = True if b > a else False # флаг\n",
    "    (a, b) = (b, a) if reversed else (a, b) # меняем местами a и b, если нужно\n",
    "\n",
    "    (r, x, y) = ([a, b], [1, 0], [0, 1]) # шаг 1\n",
    "\n",
    "    # шаги 2-3\n",
    "    # r[0] ~ r_{i}, r[1] ~ r_{i+1}\n",
    "    while r[1] != 0: \n",
    "        # r_{i-1} = qi * ri + r_{i+1}\n",
    "        (r[0], r[1], q) = (r[1], r[0] % r[1], r[0] // r[1])\n",
    "\n",
    "        if r[1] != 0: # если остаток ещё не нулевой..\n",
    "            (x[0], x[1]) = (x[1], x[0] - q * x[1])\n",
    "            (y[0], y[1]) = (y[1], y[0] - q * y[1])\n",
    "\n",
    "    (d, x_r, y_r) = (r[0], x[1], y[1])\n",
    "\n",
    "    if reversed: # если a и b были в неправильном порядке\n",
    "        (x_r, y_r) = (y_r, x_r) # меняем найденные коэффициенты местами\n",
    "\n",
    "    return (d, x_r, y_r)"
   ]
  },
  {
   "cell_type": "code",
   "execution_count": 6,
   "metadata": {},
   "outputs": [
    {
     "name": "stdout",
     "output_type": "stream",
     "text": [
      "НОД(12345, 24690) = 12345 = 12345 * 1 + 24690 * 0\n",
      "НОД(12345, 54321) = 3 = 12345 * 3617 + 54321 * -822\n",
      "НОД(12345, 12541) = 1 = 12345 * 4159 + 12541 * -4094\n",
      "НОД(39, 169) = 13 = 39 * -4 + 169 * 1\n"
     ]
    }
   ],
   "source": [
    "(d, x, y) = euclidean_algorithm_extended(12345, 24690)\n",
    "print(\"НОД({a}, {b}) = {d} = {a} * {x} + {b} * {y}\".format(a = 12345, b = 24690, d = d, x = x, y = y))\n",
    "\n",
    "(d, x, y) = euclidean_algorithm_extended(12345, 54321)\n",
    "print(\"НОД({a}, {b}) = {d} = {a} * {x} + {b} * {y}\".format(a = 12345, b = 54321, d = d, x = x, y = y))\n",
    "\n",
    "(d, x, y) = euclidean_algorithm_extended(12345, 12541)\n",
    "print(\"НОД({a}, {b}) = {d} = {a} * {x} + {b} * {y}\".format(a = 12345, b = 12541, d = d, x = x, y = y))\n",
    "\n",
    "(d, x, y) = euclidean_algorithm_extended(39, 169)\n",
    "print(\"НОД({a}, {b}) = {d} = {a} * {x} + {b} * {y}\".format(a = 39, b = 169, d = d, x = x, y = y))"
   ]
  },
  {
   "cell_type": "markdown",
   "metadata": {},
   "source": [
    "# 4. Расширенный бинарный алгоритм Евклида"
   ]
  },
  {
   "cell_type": "code",
   "execution_count": 7,
   "metadata": {},
   "outputs": [],
   "source": [
    "def euclidean_algorithm_binary_extended(a, b):\n",
    "    \"\"\"\n",
    "    Находит d = НОД(a, b), а также такие целые числа x и y, что ax + by = d, с помощью расширенного бинарного алгоритма Евклида\n",
    "    \"\"\"\n",
    "    # убеждаемся, что числа - целые и положительные\n",
    "    (a, b) = (abs(int(a)), abs(int(b)))\n",
    "\n",
    "    # убеждаемся, что выполняется условие 0 < b <= a\n",
    "    reversed = True if b > a else False # флаг\n",
    "    (a, b) = (b, a) if reversed else (a, b) # меняем местами a и b, если нужно\n",
    "\n",
    "    g = 1 # шаг 1\n",
    "\n",
    "    # шаг 2; пока числа a и b чётные\n",
    "    while is_even(a) and is_even(b):\n",
    "        (a, b, g) = (int(a / 2), int(b / 2), 2 * g)\n",
    "\n",
    "    # шаг 3; задаем начальные значения\n",
    "    (u, v, A, B, C, D) = (a, b, 1, 0, 0, 1)\n",
    "\n",
    "    # шаг 4; пока u не равно нулю\n",
    "    while u != 0:\n",
    "        # шаг 4.1\n",
    "        while is_even(u):\n",
    "            u = int(u / 2) # шаг 4.1.1\n",
    "\n",
    "            # шаг 4.1.2\n",
    "            if is_even(A) and is_even(B):\n",
    "                (A, B) = (int(A / 2), int(B / 2))\n",
    "            else:\n",
    "                (A, B) = (int((A + b) / 2), int((B - a) / 2))\n",
    "\n",
    "        # шаг 4.2\n",
    "        while is_even(v):\n",
    "            v = int(v / 2) # шаг 4.2.1\n",
    "\n",
    "            # шаг 4.2.2\n",
    "            if is_even(C) and is_even(D):\n",
    "                (C, D) = (int(C / 2), int(D / 2))\n",
    "            else:\n",
    "                (C, D) = (int((C + b) / 2), int((D - a) / 2))\n",
    "\n",
    "        # шаг 4.3\n",
    "        if u >= v:\n",
    "            (u, A, B) = (u - v, A - C, B - D)\n",
    "        else:\n",
    "            (v, C, D) = (v - u, C - A, D - B)\n",
    "\n",
    "    # шаг 5\n",
    "    (d, x, y) = (g * v, C, D)\n",
    "\n",
    "    # если a и b были в неправильном порядке\n",
    "    if reversed:\n",
    "        (x, y) = (y, x) # меняем найденные коэффициенты местами\n",
    "\n",
    "    return (d, x, y)"
   ]
  },
  {
   "cell_type": "code",
   "execution_count": 8,
   "metadata": {},
   "outputs": [
    {
     "name": "stdout",
     "output_type": "stream",
     "text": [
      "НОД(12345, 24690) = 12345 = 12345 * 1 + 24690 * 0\n",
      "НОД(12345, 54321) = 3 = 12345 * -32597 + 54321 * 7408\n",
      "НОД(12345, 12541) = 1 = 12345 * -8382 + 12541 * 8251\n",
      "НОД(190, 342) = 38 = 190 * 11 + 342 * -6\n"
     ]
    }
   ],
   "source": [
    "(d, x, y) = euclidean_algorithm_binary_extended(12345, 24690)\n",
    "print(\"НОД({a}, {b}) = {d} = {a} * {x} + {b} * {y}\".format(a = 12345, b = 24690, d = d, x = x, y = y))\n",
    "\n",
    "(d, x, y) = euclidean_algorithm_binary_extended(12345, 54321)\n",
    "print(\"НОД({a}, {b}) = {d} = {a} * {x} + {b} * {y}\".format(a = 12345, b = 54321, d = d, x = x, y = y))\n",
    "\n",
    "(d, x, y) = euclidean_algorithm_binary_extended(12345, 12541)\n",
    "print(\"НОД({a}, {b}) = {d} = {a} * {x} + {b} * {y}\".format(a = 12345, b = 12541, d = d, x = x, y = y))\n",
    "\n",
    "(d, x, y) = euclidean_algorithm_binary_extended(190, 342)\n",
    "print(\"НОД({a}, {b}) = {d} = {a} * {x} + {b} * {y}\".format(a = 190, b = 342, d = d, x = x, y = y))"
   ]
  }
 ],
 "metadata": {
  "interpreter": {
   "hash": "8cf50a1ebd007e3a5e0b436c2cd28c8d814512b11b6959a47dcb377c93a97cc5"
  },
  "kernelspec": {
   "display_name": "Python 3.7.5 64-bit (system)",
   "language": "python",
   "name": "python3"
  },
  "language_info": {
   "codemirror_mode": {
    "name": "ipython",
    "version": 3
   },
   "file_extension": ".py",
   "mimetype": "text/x-python",
   "name": "python",
   "nbconvert_exporter": "python",
   "pygments_lexer": "ipython3",
   "version": "3.7.5"
  },
  "orig_nbformat": 4
 },
 "nbformat": 4,
 "nbformat_minor": 2
}
