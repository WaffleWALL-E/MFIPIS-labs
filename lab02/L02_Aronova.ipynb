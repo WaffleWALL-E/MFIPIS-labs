{
 "cells": [
  {
   "cell_type": "markdown",
   "metadata": {},
   "source": [
    "# Столбцовая перестановка"
   ]
  },
  {
   "cell_type": "code",
   "execution_count": 1,
   "metadata": {},
   "outputs": [],
   "source": [
    "import math\n",
    "import numpy as np\n",
    "import string\n",
    "\n",
    "# русский алфавит\n",
    "abc  = [chr(code) for code in range(ord('а'), ord('я') + 1)] \n",
    "\n",
    "# словарь вида {буква : порядковый номер}\n",
    "letter2number = {abc[i] : i for i in range(len(abc))} "
   ]
  },
  {
   "cell_type": "code",
   "execution_count": 2,
   "metadata": {},
   "outputs": [],
   "source": [
    "def columnar_cipher(message, key):\n",
    "    \"\"\"\n",
    "    Шифрует сообщение message методом столбцовой перестановки с ключом key\n",
    "    \"\"\"\n",
    "    n = len(key) # длина ключа aka число столбцов\n",
    "\n",
    "    # приводим сообщение к нижнему регистру, избавляемся от пробелов и знаков препинания\n",
    "    mes = message.lower().replace(\" \", \"\")\n",
    "    mes = mes.translate(str.maketrans('', '', string.punctuation))\n",
    "\n",
    "    m = math.ceil(len(mes) / n) # число строк\n",
    "\n",
    "    # таблица для записи сообщения; лишние ячейки заполняются мусором - буквами \"а\"\n",
    "    table = np.full((m, n), 'а') \n",
    "\n",
    "    for i in range(m): # проходим по всем строкам..\n",
    "        for j in range(n): # и столбцам:\n",
    "            if i * n + j < len(mes): # если в сообщении ещё есть незаписанные символы\n",
    "                table[i][j] = mes[i * n + j] # записываем очередную букву в таблицу\n",
    "            else: # иначе\n",
    "                break # выходим из цикла\n",
    "    \n",
    "    # порядковые номера букв в ключевом слове, отстортированные по возрастанию\n",
    "    nums = sorted([letter2number[letter] for letter in key])\n",
    "\n",
    "    # меняем номера обратно на буквы..\n",
    "    route_order = [abc[number] for number in nums]\n",
    "    # и получаем порядок, в котором нужно брать столбцы\n",
    "    route_order = [key.index(letter) for letter in route_order]\n",
    "\n",
    "    # криптограмма\n",
    "    message_encrypted = \"\"\n",
    "\n",
    "    for j in route_order: # проходим по столбцам в заданном порядке\n",
    "        for i in range(m): # проходим по всем строкам\n",
    "            message_encrypted += table[i][j] # добавляем очередную букву в криптограмму\n",
    "\n",
    "    return message_encrypted"
   ]
  },
  {
   "cell_type": "code",
   "execution_count": 3,
   "metadata": {},
   "outputs": [
    {
     "name": "stdout",
     "output_type": "stream",
     "text": [
      "еенпнзоатаьовокннеьвлдирияцтиа\n",
      "ьмреслчимеормеортуамтуамрчсхрчсхямпо\n"
     ]
    }
   ],
   "source": [
    "print(columnar_cipher(\"Нельзя недооценивать противника\", \"пароль\"))\n",
    "print(columnar_cipher(\"Стремясь к лучшему, мы часто портим хорошее\", \"корольлир\"))"
   ]
  },
  {
   "cell_type": "markdown",
   "metadata": {},
   "source": [
    "# Таблица Виженера"
   ]
  },
  {
   "cell_type": "code",
   "execution_count": 4,
   "metadata": {},
   "outputs": [
    {
     "data": {
      "text/plain": [
       "array([['а', 'б', 'в', ..., 'э', 'ю', 'я'],\n",
       "       ['б', 'в', 'г', ..., 'ю', 'я', 'а'],\n",
       "       ['в', 'г', 'д', ..., 'я', 'а', 'б'],\n",
       "       ...,\n",
       "       ['э', 'ю', 'я', ..., 'ъ', 'ы', 'ь'],\n",
       "       ['ю', 'я', 'а', ..., 'ы', 'ь', 'э'],\n",
       "       ['я', 'а', 'б', ..., 'ь', 'э', 'ю']], dtype='<U1')"
      ]
     },
     "execution_count": 4,
     "metadata": {},
     "output_type": "execute_result"
    }
   ],
   "source": [
    "# составим таблицу Виженера для русского алфавита\n",
    "vigenere_table = np.array(abc) # первая строчка - сам алфавит\n",
    "\n",
    "for i in range(1, len(abc)):\n",
    "    # получаем очередную строку, \n",
    "    # сдвигая алфавит на i позиций\n",
    "    row = np.roll(abc, -i) \n",
    "    # добавляем строку к таблице\n",
    "    vigenere_table = np.vstack((vigenere_table, row))\n",
    "\n",
    "vigenere_table"
   ]
  },
  {
   "cell_type": "code",
   "execution_count": 5,
   "metadata": {},
   "outputs": [],
   "source": [
    "def vigenere_cipher(message, key, vigenere_table):\n",
    "    \"\"\"\n",
    "    Шифрует сообщение message шифром Виженера с ключом key\n",
    "    \"\"\"\n",
    "    # приводим сообщение к нижнему регистру, избавляемся от пробелов и знаков препинания\n",
    "    mes = message.lower().replace(\" \", \"\")\n",
    "    mes = mes.translate(str.maketrans('', '', string.punctuation))\n",
    "\n",
    "    # теперь, если нужно, удлинним ключ так, чтобы он покрывал всё сообщение\n",
    "    long_key = key\n",
    "    n = len(key) # длина изначального ключа\n",
    "\n",
    "    # пока длина ключа меньше длины сообщения..\n",
    "    while len(long_key) < len(mes):\n",
    "        m = len(long_key)\n",
    "        # добавляем к ключу символ, стоящий на n позиций раньше\n",
    "        long_key = long_key + long_key[m - n] \n",
    "\n",
    "    # криптограмма\n",
    "    message_encrypted = \"\"\n",
    "\n",
    "    for i in range(len(mes)):\n",
    "        # порядковый номер очередного символа открытого текста\n",
    "        column = letter2number[mes[i]]\n",
    "        # порядковый номер соответствующего символа ключа\n",
    "        row = letter2number[long_key[i]]\n",
    "\n",
    "        # получаем зашифрованный символ из таблицы Виженера\n",
    "        # и добавляем его к криптограмме\n",
    "        message_encrypted += vigenere_table[row][column]\n",
    "\n",
    "    return message_encrypted"
   ]
  },
  {
   "cell_type": "code",
   "execution_count": 6,
   "metadata": {},
   "outputs": [
    {
     "name": "stdout",
     "output_type": "stream",
     "text": [
      "цръфюохшкффягкььчпчалнтшца\n",
      "онэцмнннфонлытщняузыгжцлйщншйьпэжхйеъ\n"
     ]
    }
   ],
   "source": [
    "print(vigenere_cipher(\"криптография серьезная наука\", \"математика\", vigenere_table))\n",
    "print(vigenere_cipher(\"Мир - сцена, где всякий свою роль играть обязан\", \"венецианскийкупец\", vigenere_table))"
   ]
  },
  {
   "cell_type": "markdown",
   "metadata": {},
   "source": [
    "# Шифрование с помощью решеток"
   ]
  },
  {
   "cell_type": "code",
   "execution_count": 7,
   "metadata": {},
   "outputs": [],
   "source": [
    "def rotare_cell(cell, k):\n",
    "    \"\"\"\n",
    "    Поворачивает квадратную решетку cell со стороной k по часовой стрелке на 90 градусов\n",
    "    \"\"\"\n",
    "    cell_r = cell.T # транспонируем исходную матрицу\n",
    "    \n",
    "    result = np.full((k, k), 'а') # результирующая решетка\n",
    "\n",
    "    # теперь нужно инвертировать порядок столбцов;\n",
    "    # перебираем все элементы в решетке..\n",
    "    for i in range(k):\n",
    "        for j in range(k):\n",
    "            # и отражаем их относительно центрального столбца (или условной вертикальной оси)\n",
    "            result[i][j] = cell_r[i][k - j - 1]\n",
    "\n",
    "    return result\n",
    "\n",
    "def get_holes(cell, k):\n",
    "    \"\"\"\n",
    "    Генерирует случайное расположение трафаретных отверстий в квадрате cell размерности k,\n",
    "    подходящее для дальнейшего использования шифрования с помощью решеток\n",
    "    \"\"\"\n",
    "    # номера четырех под-решеток (далее \"клеток\"), из которых будут удаляться номера с 1 до k ** 2\n",
    "    cell_nums = np.random.randint(0, 4, k ** 2) \n",
    "\n",
    "    # границы клеток\n",
    "    intervals = {\n",
    "        0 : [[0, k], [0, k]], \n",
    "        1 : [[0, k], [k, 2 * k]], \n",
    "        2 : [[k, 2 * k], [k, 2 * k]],\n",
    "        3 : [[k, 2 * k], [0, k]]\n",
    "    }\n",
    "\n",
    "    # индексы (\"координаты\") трафаретных отверстий\n",
    "    hole_indexes = []\n",
    "\n",
    "    for i in range(k ** 2):\n",
    "        cell_num = cell_nums[i] # номер клетки, из которой нужно удалить очередной номер \n",
    "        interval = intervals[cell_num] # границы этой клетки\n",
    "        number = str(i + 1) # номер, который нужно удалить\n",
    "\n",
    "        for j in range(interval[0][0], interval[0][1]): ######\n",
    "            for l in range(interval[1][0], interval[1][1]): ## проходим по клетке\n",
    "                if cell[j][l] == number: # если номер - тот, который ищем..\n",
    "                    hole_indexes.append((j, l)) # добавляем его индексы в массив\n",
    "                    break # и прерываем цикл\n",
    "\n",
    "    return hole_indexes\n",
    "\n",
    "def grille_cipher(message, key, example = False):\n",
    "    \"\"\"\n",
    "    Шифрует сообщение message с помощью решёток с ключом key.\n",
    "    Если example == True, используется трафарет из задания к лабораторной\n",
    "    \"\"\"\n",
    "    # приводим сообщение к нижнему регистру, избавляемся от пробелов и знаков препинания\n",
    "    mes = message.lower().replace(\" \", \"\")\n",
    "    mes = mes.translate(str.maketrans('', '', string.punctuation))\n",
    "\n",
    "    # длина сообщений\n",
    "    n = len(mes)\n",
    "\n",
    "    # размер клетки\n",
    "    k = math.ceil(math.ceil(np.sqrt(n)) / 2)\n",
    "\n",
    "    # если сообщение не умещается в решетку 2k x 2k\n",
    "    if (2 * k) ** 2 < n:\n",
    "        k += 1 # увеличиваем k на единицу\n",
    "\n",
    "    # если сообщение не заполняет решетку (должны остаться пустые ячейки), \n",
    "    # то пока длина сообщения не равна площади решетки..\n",
    "    while len(mes) < (2 * k) ** 2:\n",
    "        mes += 'а' # дописываем в конец сообщения \"мусор\" - букву \"а\"\n",
    "\n",
    "    # 1-я клетка (левая верхняя)\n",
    "    cell_1 = np.full((k, k), 0)\n",
    "\n",
    "    # заполянем её натуральными числами сверху-вниз слева-направо\n",
    "    for i in range(k):\n",
    "        for j in range(k):\n",
    "            cell_1[i][j] = str(i * k + j + 1)\n",
    "\n",
    "    # следующие клетки получаем поворотом предыдущих\n",
    "    cell_2 = rotare_cell(cell_1, k) # 2-я клетка (правая верхняя)\n",
    "    cell_3 = rotare_cell(cell_2, k) # 3-я клетка (правая нижняя)\n",
    "    cell_4 = rotare_cell(cell_3, k) # 4-я клетка (левая нижняя)\n",
    "\n",
    "    # теперь составим из клеток одну решетку размера 2k x 2k\n",
    "    cell = np.full((2 * k, 2 * k), '0')\n",
    "    cell[:k, :k] = cell_1\n",
    "    cell[:k, k:] = cell_2\n",
    "    cell[k:, k:] = cell_3\n",
    "    cell[k:, :k] = cell_4\n",
    "\n",
    "    if example: # если параметр example - True..\n",
    "        # используем трафарет из примера\n",
    "        holes = [(0, 3), (2, 1), (2, 3), (3, 2)] \n",
    "    else: # иначе..\n",
    "        # генерируем случайный трафарет и сортируем координаты отверстий\n",
    "        # так, чтобы они шли сверху-вниз и слева-направо, т.е.\n",
    "        # во-первых, по возрастанию первого индекса и во-вторых, - второго \n",
    "        holes = sorted(get_holes(cell, k), key = lambda x : (x[0], x[1]))\n",
    "    \n",
    "    table = np.full((2 * k, 2 * k), ' ') # таблица\n",
    "    template = np.full((2 * k, 2 * k), '0') # трафарет\n",
    "\n",
    "    # отметим положение отверстий в трафарете\n",
    "    # и заодно выведем его на экран\n",
    "    print(\"Использованный шаблон: \")\n",
    "    for i in range(2 * k):\n",
    "        for j in range(2 * k):\n",
    "            if (i, j) in holes: # если на месте ячейки должно быть отверстие\n",
    "                template[i][j] = '1' # ставим в трафарете единицу\n",
    "                print('\\u25A0', end = ' ') # и выводим черный квадрат\n",
    "            else: # в противном случае..\n",
    "                # выводим число из ранее заготовленной решетки\n",
    "                print(cell[i][j], end = ' ') \n",
    "        print()\n",
    "\n",
    "    for i in range(4): # четыре раза:\n",
    "        for j in range(k ** 2): # проходим по всем отверстиям в трафарете\n",
    "            # и записываем туда очередную букву\n",
    "            table[holes[j][0]][holes[j][1]] = mes[i * (k ** 2) + j] \n",
    "\n",
    "        # поворачиваем трафарет\n",
    "        template = rotare_cell(template, 2 * k)\n",
    "        # и обновляем расположение отверстий\n",
    "        holes = [(hole[0], hole[1]) for hole in np.array(np.where(template == '1')).T]\n",
    "\n",
    "        # выводим результат после текущего шага\n",
    "        print(\"Шаг №{}\".format(i + 1))\n",
    "        print(table)\n",
    "    \n",
    "    # порядковые номера букв в ключевом слове, отстортированные по возрастанию\n",
    "    nums = sorted([letter2number[letter] for letter in key])\n",
    "\n",
    "    # меняем номера обратно на буквы..\n",
    "    route_order = [abc[number] for number in nums]\n",
    "    # и получаем порядок, в котором нужно брать столбцы\n",
    "    route_order = [key.index(letter) for letter in route_order]\n",
    "\n",
    "    # криптограмма\n",
    "    message_encrypted = \"\"\n",
    "\n",
    "\n",
    "    for j in route_order: # проходим по столбцам в заданном порядке\n",
    "        for i in range(2 * k): # проходим по всем строкам\n",
    "            # добавляем очередную букву в криптограмму\n",
    "            message_encrypted += table[i][j]\n",
    "    \n",
    "    return message_encrypted"
   ]
  },
  {
   "cell_type": "code",
   "execution_count": 8,
   "metadata": {},
   "outputs": [
    {
     "name": "stdout",
     "output_type": "stream",
     "text": [
      "Использованный шаблон: \n",
      "1 2 3 ■ \n",
      "3 4 4 2 \n",
      "2 ■ 4 ■ \n",
      "1 3 ■ 1 \n",
      "Шаг №1\n",
      "[[' ' ' ' ' ' 'д']\n",
      " [' ' ' ' ' ' ' ']\n",
      " [' ' 'о' ' ' 'г']\n",
      " [' ' ' ' 'о' ' ']]\n",
      "Шаг №2\n",
      "[[' ' ' ' ' ' 'д']\n",
      " [' ' 'в' ' ' ' ']\n",
      " ['о' 'о' ' ' 'г']\n",
      " [' ' 'р' 'о' 'п']]\n",
      "Шаг №3\n",
      "[[' ' 'о' ' ' 'д']\n",
      " ['д' 'в' 'п' ' ']\n",
      " ['о' 'о' ' ' 'г']\n",
      " ['и' 'р' 'о' 'п']]\n",
      "Шаг №4\n",
      "[['с' 'о' 'а' 'д']\n",
      " ['д' 'в' 'п' 'л']\n",
      " ['о' 'о' 'и' 'г']\n",
      " ['и' 'р' 'о' 'п']]\n",
      "овордлгпапиосдои\n"
     ]
    }
   ],
   "source": [
    "print(grille_cipher(\"договор подписали\", \"шифр\", example = True))"
   ]
  },
  {
   "cell_type": "code",
   "execution_count": 9,
   "metadata": {},
   "outputs": [
    {
     "name": "stdout",
     "output_type": "stream",
     "text": [
      "Использованный шаблон: \n",
      "1 ■ 3 7 4 1 \n",
      "4 5 ■ 8 5 2 \n",
      "7 ■ ■ 9 6 3 \n",
      "3 6 9 9 8 ■ \n",
      "2 5 8 6 ■ ■ \n",
      "1 4 7 ■ 2 ■ \n",
      "Шаг №1\n",
      "[[' ' 'а' ' ' ' ' ' ' ' ']\n",
      " [' ' ' ' 'д' ' ' ' ' ' ']\n",
      " [' ' 'п' 'у' ' ' ' ' ' ']\n",
      " [' ' ' ' ' ' ' ' ' ' 'с']\n",
      " [' ' ' ' ' ' ' ' 'т' 'в']\n",
      " [' ' ' ' ' ' 'с' ' ' 'е']]\n",
      "Шаг №2\n",
      "[[' ' 'а' ' ' ' ' ' ' ' ']\n",
      " [' ' ' ' 'д' 'д' ' ' 'ь']\n",
      " [' ' 'п' 'у' 'я' 'в' ' ']\n",
      " ['о' ' ' ' ' ' ' ' ' 'с']\n",
      " [' ' 'л' ' ' ' ' 'т' 'в']\n",
      " ['ы' 'с' 'ю' 'с' ' ' 'е']]\n",
      "Шаг №3\n",
      "[['д' 'а' 'а' ' ' ' ' ' ']\n",
      " ['с' 'л' 'д' 'д' ' ' 'ь']\n",
      " ['е' 'п' 'у' 'я' 'в' ' ']\n",
      " ['о' ' ' ' ' 'т' 'е' 'с']\n",
      " [' ' 'л' ' ' 'л' 'т' 'в']\n",
      " ['ы' 'с' 'ю' 'с' 'и' 'е']]\n",
      "Шаг №4\n",
      "[['д' 'а' 'а' 'с' 'ь' 'а']\n",
      " ['с' 'л' 'д' 'д' 'а' 'ь']\n",
      " ['е' 'п' 'у' 'я' 'в' 'а']\n",
      " ['о' 'а' 'а' 'т' 'е' 'с']\n",
      " ['а' 'л' 'а' 'л' 'т' 'в']\n",
      " ['ы' 'с' 'ю' 'с' 'и' 'е']]\n",
      "ьаветидсеоаыаьасвеадуааюалпалссдятлс\n"
     ]
    }
   ],
   "source": [
    "print(grille_cipher(\"Ад пуст. Все дьяволы сюда слетелись\", \"буряад\"))"
   ]
  }
 ],
 "metadata": {
  "interpreter": {
   "hash": "8cf50a1ebd007e3a5e0b436c2cd28c8d814512b11b6959a47dcb377c93a97cc5"
  },
  "kernelspec": {
   "display_name": "Python 3.7.5 64-bit (system)",
   "language": "python",
   "name": "python3"
  },
  "language_info": {
   "codemirror_mode": {
    "name": "ipython",
    "version": 3
   },
   "file_extension": ".py",
   "mimetype": "text/x-python",
   "name": "python",
   "nbconvert_exporter": "python",
   "pygments_lexer": "ipython3",
   "version": "3.7.5"
  },
  "orig_nbformat": 4
 },
 "nbformat": 4,
 "nbformat_minor": 2
}
