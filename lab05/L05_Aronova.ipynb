{
 "cells": [
  {
   "cell_type": "code",
   "execution_count": 1,
   "metadata": {},
   "outputs": [],
   "source": [
    "import numpy as np"
   ]
  },
  {
   "cell_type": "markdown",
   "metadata": {},
   "source": [
    "# 1. Алгоритм, реализующий тест Ферма"
   ]
  },
  {
   "cell_type": "code",
   "execution_count": 2,
   "metadata": {},
   "outputs": [],
   "source": [
    "def fermat_algorithm(n):\n",
    "    \"\"\"\n",
    "    Проверяет простоту числа n с помощью теста Ферма\n",
    "    \"\"\"\n",
    "    # удостоверяемся, что n - нечетное\n",
    "    # (иначе проверка не имеет смысла)\n",
    "    # и не меньше, чем 5\n",
    "    if n < 5 or n % 2 == 0:\n",
    "        return \"Некорректное число n\"\n",
    "    \n",
    "    a = np.random.randint(2, n - 1) # шаг 1\n",
    "    r = (a ** (n - 1)) % n # шаг 2\n",
    "\n",
    "    # шаг 3\n",
    "    if r == 1:\n",
    "        return \"Число {}, вероятно, простое\".format(n)\n",
    "    else:\n",
    "        return \"Число {} составное\".format(n)"
   ]
  },
  {
   "cell_type": "code",
   "execution_count": 3,
   "metadata": {},
   "outputs": [
    {
     "name": "stdout",
     "output_type": "stream",
     "text": [
      "Число 37, вероятно, простое ; Число 239, вероятно, простое ; Число 877, вероятно, простое\n",
      "Число 63, вероятно, простое ; Число 755 составное ; Число 1111111 составное\n"
     ]
    }
   ],
   "source": [
    "print(fermat_algorithm(37), \";\", fermat_algorithm(239), \";\", fermat_algorithm(877))\n",
    "print(fermat_algorithm(63), \";\", fermat_algorithm(755), \";\", fermat_algorithm(1111111))"
   ]
  },
  {
   "cell_type": "markdown",
   "metadata": {},
   "source": [
    "# 2. Алгоритм вычисления символа Якоби"
   ]
  },
  {
   "cell_type": "code",
   "execution_count": 4,
   "metadata": {},
   "outputs": [],
   "source": [
    "def equal_by_modulo(a, b, m):\n",
    "    \"\"\"\n",
    "    Проверяет, сравнимы ли числа a и b по модулю m\n",
    "    \"\"\"\n",
    "    return (True if (a - b) % m == 0 else False)\n",
    "\n",
    "def jacobi_symbol(a, n, g = 1):\n",
    "    \"\"\"\n",
    "    Вычисляет символ Якоби (a / n); \n",
    "    параметр g используется для рекурсивного вызова функции\n",
    "    \"\"\"\n",
    "    # шаг первый: значение параметра g по умолчанию\n",
    "    if a == 0: # шаг 2\n",
    "        return 0\n",
    "    elif a == 1: # шаг 3\n",
    "        return g\n",
    "\n",
    "    # шаг 4: представляем число a\n",
    "    # в виде 2^k * a1 \n",
    "    k = 0\n",
    "\n",
    "    # для этого увеличиваем k до тех пор,\n",
    "    # пока а не перестанет нацело делиться на 2^k\n",
    "    while a % (2 ** k) == 0:\n",
    "        k += 1\n",
    "    k -= 1\n",
    "\n",
    "    a1 = int(a / (2 ** k))\n",
    "\n",
    "    # шаг 5\n",
    "    s = 1\n",
    "    if k % 2 == 1 and (equal_by_modulo(n, 3, 8) or equal_by_modulo(n, -3, 8)):\n",
    "        s = -1\n",
    "    \n",
    "    # шаг 6\n",
    "    if a1 == 1:\n",
    "        return g * s\n",
    "\n",
    "    # шаг 7\n",
    "    if equal_by_modulo(n, 3, 4) and equal_by_modulo(a1, 3, 4):\n",
    "        s = -s\n",
    "    \n",
    "    # шаг 8\n",
    "    a = n % a1\n",
    "    n = a1\n",
    "    g = g * s\n",
    "\n",
    "    return jacobi_symbol(a, n, g)"
   ]
  },
  {
   "cell_type": "code",
   "execution_count": 5,
   "metadata": {},
   "outputs": [
    {
     "name": "stdout",
     "output_type": "stream",
     "text": [
      "Символ Якоби (1001/9907) = -1\n",
      "Символ Якоби (19/45) = 1\n",
      "Символ Якоби (219/383) = 1\n"
     ]
    }
   ],
   "source": [
    "print(\"Символ Якоби ({}/{}) = {}\".format(1001, 9907, jacobi_symbol(1001, 9907)))\n",
    "print(\"Символ Якоби ({}/{}) = {}\".format(19, 45, jacobi_symbol(19, 45)))\n",
    "print(\"Символ Якоби ({}/{}) = {}\".format(219, 383, jacobi_symbol(219, 383)))"
   ]
  },
  {
   "cell_type": "markdown",
   "metadata": {},
   "source": [
    "# 3. Алгоритм, реализующий тест Соловея-Штрассена"
   ]
  },
  {
   "cell_type": "code",
   "execution_count": 6,
   "metadata": {},
   "outputs": [],
   "source": [
    "def solovay_strassen_algorithm(n):\n",
    "    \"\"\"\n",
    "    Проверяет простоту числа n с помощью теста Соловея-Штрассена\n",
    "    \"\"\"\n",
    "    if n < 5 or n % 2 == 0:\n",
    "        return \"Некорректное число n\"\n",
    "    \n",
    "    a = np.random.randint(2, n - 2) # шаг 1\n",
    "    r = (a ** int((n - 1) / 2)) % n # шаг 2\n",
    "\n",
    "    if r != 1 and r != (n - 1): # шаг 3\n",
    "        return \"Число {} составное\".format(n)\n",
    "\n",
    "    s = jacobi_symbol(a, n) # шаг 4\n",
    "\n",
    "    if not equal_by_modulo(r, s, n): # шаг 5\n",
    "        return \"Число {} составное\".format(n)\n",
    "    else:\n",
    "        return \"Число {}, вероятно, простое\".format(n)"
   ]
  },
  {
   "cell_type": "code",
   "execution_count": 7,
   "metadata": {},
   "outputs": [
    {
     "name": "stdout",
     "output_type": "stream",
     "text": [
      "Число 37, вероятно, простое ; Число 239, вероятно, простое ; Число 877, вероятно, простое\n",
      "Число 63 составное ; Число 755 составное ; Число 1111111 составное\n"
     ]
    }
   ],
   "source": [
    "print(solovay_strassen_algorithm(37), \";\", solovay_strassen_algorithm(239), \";\", solovay_strassen_algorithm(877))\n",
    "print(solovay_strassen_algorithm(63), \";\", solovay_strassen_algorithm(755), \";\", solovay_strassen_algorithm(1111111))"
   ]
  },
  {
   "cell_type": "markdown",
   "metadata": {},
   "source": [
    "# 4. Алгоритм, реализующий тест Миллера-Рабина"
   ]
  },
  {
   "cell_type": "code",
   "execution_count": 8,
   "metadata": {},
   "outputs": [],
   "source": [
    "def miller_rabin_algorithm(n):\n",
    "    \"\"\"\n",
    "    Проверяет простоту числа n с помощью теста Миллера-Рабина\n",
    "    \"\"\"\n",
    "    # удостоверяемся, что n - нечетное\n",
    "    # (иначе проверка не имеет смысла)\n",
    "    # и не меньше, чем 5\n",
    "    if n < 5 or n % 2 == 0:\n",
    "        return \"Некорректное число n\"\n",
    "\n",
    "    # шаг 1\n",
    "    s = 0\n",
    "\n",
    "    while (n - 1) % (2 ** s) == 0:\n",
    "        s += 1\n",
    "\n",
    "    s -= 1\n",
    "    r = int((n - 1) / (2 ** s))\n",
    "\n",
    "    a = np.random.randint(2, n - 2) # шаг 2\n",
    "    y = (a ** r) % n # шаг 3\n",
    "\n",
    "    # шаг 4\n",
    "    if y != 1 and y != (n - 1):\n",
    "        j = 1 # шаг 4.1\n",
    "\n",
    "        # шаг 4.2\n",
    "        while j <= (s - 1) and y != (n - 1):\n",
    "            y = (y ** 2) % n # шаг 4.2.1\n",
    "\n",
    "            # шаг 4.2.2\n",
    "            if y == 1:\n",
    "                return \"Число {} составное\".format(n)\n",
    "\n",
    "            j += 1 # шаг 4.2.3\n",
    "\n",
    "        # шаг 4.3\n",
    "        if y != (n - 1):\n",
    "            return \"Число {} составное\".format(n)\n",
    "    \n",
    "    # шаг 5\n",
    "    return \"Число {}, вероятно, простое\".format(n)"
   ]
  },
  {
   "cell_type": "code",
   "execution_count": 9,
   "metadata": {},
   "outputs": [
    {
     "name": "stdout",
     "output_type": "stream",
     "text": [
      "Число 37, вероятно, простое ; Число 239, вероятно, простое ; Число 877, вероятно, простое\n",
      "Число 63 составное ; Число 755 составное ; Число 1111111 составное\n"
     ]
    }
   ],
   "source": [
    "print(miller_rabin_algorithm(37), \";\", miller_rabin_algorithm(239), \";\", miller_rabin_algorithm(877))\n",
    "print(miller_rabin_algorithm(63), \";\", miller_rabin_algorithm(755), \";\", miller_rabin_algorithm(1111111))"
   ]
  }
 ],
 "metadata": {
  "interpreter": {
   "hash": "8cf50a1ebd007e3a5e0b436c2cd28c8d814512b11b6959a47dcb377c93a97cc5"
  },
  "kernelspec": {
   "display_name": "Python 3.7.5 64-bit (system)",
   "language": "python",
   "name": "python3"
  },
  "language_info": {
   "codemirror_mode": {
    "name": "ipython",
    "version": 3
   },
   "file_extension": ".py",
   "mimetype": "text/x-python",
   "name": "python",
   "nbconvert_exporter": "python",
   "pygments_lexer": "ipython3",
   "version": "3.7.5"
  },
  "orig_nbformat": 4
 },
 "nbformat": 4,
 "nbformat_minor": 2
}
