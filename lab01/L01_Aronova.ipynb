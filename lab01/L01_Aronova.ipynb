{
 "cells": [
  {
   "cell_type": "code",
   "execution_count": 1,
   "metadata": {},
   "outputs": [],
   "source": [
    "n_eng = 26 # мощность английского алфавита \n",
    "n_rus = 32 # мощность русского алфавита\n",
    "\n",
    "# словарь вида\n",
    "# язык : {\n",
    "# \"a\" : Unicode-код первой строчной буквы алфавита, \n",
    "# \"z\" : Unicode-код последней строчной буквы алфавита, \n",
    "# \"m\" : число букв в алфавите\n",
    "# }\n",
    "lang_dict = {\n",
    "    \"eng\" : {\"a\" : ord('a'), \"z\" : ord('z'), \"m\" : n_eng},\n",
    "    \"rus\" : {\"a\" : ord('а'), \"z\" : ord('я'), \"m\" : n_rus}\n",
    "}"
   ]
  },
  {
   "cell_type": "code",
   "execution_count": 2,
   "metadata": {},
   "outputs": [],
   "source": [
    "def shift(letter, k, language):\n",
    "    \"\"\"\n",
    "    Получает букву языка language на k позиций дальше буквы letter. \n",
    "    Если символ letter не является буквой языка language, то возвращается он сам\n",
    "    \"\"\"\n",
    "    a = ord(letter) # юникод символа\n",
    "\n",
    "    if lang_dict[language]['a'] <= a <= lang_dict[language]['z']: # если этот символ буквенный..\n",
    "        T_new = (a - lang_dict[language]['a'] + k) % lang_dict[language]['m'] + lang_dict[language]['a'] # производим сдвиг на k позиций\n",
    "        return chr(T_new) # и возвращаем новую букву\n",
    "    else: # иначе..\n",
    "        return letter # возвращаем символ без изменений \n",
    "        \n",
    "def caesar_encrypt(message, k):\n",
    "    \"\"\"\n",
    "    Получает криптограмму сообщения message с помощью шифра Цезаря с ключом k. Небуквенные символы оставляет неизменными\n",
    "    \"\"\"\n",
    "    message_encrypted = [] # зашифрованное сообщение, массив из символов\n",
    "\n",
    "    # отмечаем индексы заглавных букв, чтобы сохранить правильные регистры в сообщении\n",
    "    caps = [True if letter.isupper() else False for letter in message]\n",
    "\n",
    "    # определяем язык сообщения (английский или русский) на основе его первой буквы. Способ I\n",
    "    if lang_dict['eng']['a'] <= ord(message[0].lower()) <= lang_dict['eng']['z']:\n",
    "        language = \"eng\"\n",
    "    elif lang_dict['rus']['a'] <= ord(message[0].lower()) <= lang_dict['rus']['z']:\n",
    "        language = \"rus\"\n",
    "    else:\n",
    "        print(\"Ошибка: первый символ должен быть кириллицей или латиницей\")  # выводим соответствующее сообщение\n",
    "        return \"\" # и выходим из функции \n",
    "    \n",
    "    for i in range(len(message)): # для каждого символа в сообщении..\n",
    "        # зашифровываем его и добавляем к итоговому массиву символов\n",
    "        message_encrypted.append(shift(message.lower()[i], k, language)) \n",
    "\n",
    "    # переводим в верхний регистр все соответствующие символы\n",
    "    for i in range(len(message)):\n",
    "        if caps[i]:\n",
    "            message_encrypted[i] = message_encrypted[i].upper()\n",
    "\n",
    "    # объединяем символы в одну строку и возвращаем полученную криптограмму\n",
    "    return \"\".join(message_encrypted)"
   ]
  },
  {
   "cell_type": "code",
   "execution_count": 3,
   "metadata": {},
   "outputs": [
    {
     "name": "stdout",
     "output_type": "stream",
     "text": [
      "Yhql, Ylgl, Ylfl\n",
      "Gftujob mfouf\n",
      "Цчпямт, ъйплмт, цхимлпт\n"
     ]
    }
   ],
   "source": [
    "print(caesar_encrypt(\"Veni, Vidi, Vici\", 3))\n",
    "print(caesar_encrypt(\"Festina lente\", 1))\n",
    "print(caesar_encrypt(\"Пришел, увидел, победил\", 7))"
   ]
  },
  {
   "cell_type": "code",
   "execution_count": 4,
   "metadata": {},
   "outputs": [],
   "source": [
    "# английский алфавит + пробел\n",
    "eng_abc = [chr(code) for code in range(lang_dict['eng']['a'], lang_dict['eng']['z'] + 1)]\n",
    "eng_abc.append(' ')\n",
    "\n",
    "# русский алфавит + пробел\n",
    "rus_abc = [chr(code) for code in range(lang_dict['rus']['a'], lang_dict['rus']['z'] + 1)]\n",
    "rus_abc.append(' ')\n",
    "\n",
    "abc_s = {\n",
    "    \"eng\" : eng_abc,\n",
    "    \"rus\" : rus_abc\n",
    "}"
   ]
  },
  {
   "cell_type": "code",
   "execution_count": 5,
   "metadata": {},
   "outputs": [],
   "source": [
    "def atbash_encrypt(message):\n",
    "    \"\"\"\n",
    "    Получает криптограмму сообщения message с помощью шифра Атбаша. Небуквенные символы оставляет неизменными\n",
    "    \"\"\"\n",
    "    message_encrypted = [] # зашифрованное сообщение, массив из символов\n",
    "\n",
    "    # отмечаем индексы заглавных букв\n",
    "    caps = [True if letter.isupper() else False for letter in message]\n",
    "\n",
    "    # определяем язык сообщения (английский или русский) на основе его первой буквы. Способ II\n",
    "    if message[0].lower() in eng_abc[:-1]:\n",
    "        language = \"eng\"\n",
    "    elif message[0].lower() in rus_abc[:-1]:\n",
    "        language = \"rus\"\n",
    "    else:\n",
    "        print(\"Ошибка: первый символ должен быть кириллицей или латиницей\")\n",
    "        return \"\"\n",
    "\n",
    "    abc = abc_s[language] # получаем алфавит соответствующего языка\n",
    "    cba = list(reversed(abc)) # записываем его в обратном порядке\n",
    "\n",
    "    message_lowered = message.lower() # приводим сообщение к нижнему регистру\n",
    "\n",
    "    for i in range(len(message)): # для каждого символа в сообщении:\n",
    "        if message_lowered[i] in abc: # если символ - буквенный..\n",
    "\n",
    "            # получаем его порядковый номер в алфавите\n",
    "            code = abc.index(message_lowered[i])\n",
    "\n",
    "            # и берем букву под тем же номером в инвертированном алфавите\n",
    "            message_encrypted.append(cba[code])\n",
    "        else: # в противном случае..\n",
    "            message_encrypted.append(message_lowered[i]) # оставляем символ неизменным\n",
    "\n",
    "    # переводим в верхний регистр все соответствующие символы\n",
    "    for i in range(len(message)):\n",
    "        if caps[i]:\n",
    "            message_encrypted[i] = message_encrypted[i].upper()\n",
    "\n",
    "    # объединяем символы в одну строку и возвращаем полученную криптограмму\n",
    "    return \"\".join(message_encrypted)"
   ]
  },
  {
   "cell_type": "code",
   "execution_count": 6,
   "metadata": {},
   "outputs": [
    {
     "name": "stdout",
     "output_type": "stream",
     "text": [
      "Эьыаф хтапхтю,ао фаюыпатушашфыво\n",
      "Etwjwaemjxia jwaiy jyw,ahtwca jwaiwpxmoailwnhasnaf sn\n"
     ]
    }
   ],
   "source": [
    "print(atbash_encrypt(\"Где мало слов, там вес они имеют\"))\n",
    "print(atbash_encrypt(\"Where words are scarce, they are seldom spent in vain\"))"
   ]
  }
 ],
 "metadata": {
  "interpreter": {
   "hash": "8cf50a1ebd007e3a5e0b436c2cd28c8d814512b11b6959a47dcb377c93a97cc5"
  },
  "kernelspec": {
   "display_name": "Python 3.7.5 64-bit (system)",
   "language": "python",
   "name": "python3"
  },
  "language_info": {
   "codemirror_mode": {
    "name": "ipython",
    "version": 3
   },
   "file_extension": ".py",
   "mimetype": "text/x-python",
   "name": "python",
   "nbconvert_exporter": "python",
   "pygments_lexer": "ipython3",
   "version": "3.7.5"
  },
  "orig_nbformat": 4
 },
 "nbformat": 4,
 "nbformat_minor": 2
}
