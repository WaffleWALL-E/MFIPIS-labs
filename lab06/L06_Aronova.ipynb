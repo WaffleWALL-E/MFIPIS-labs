{
 "cells": [
  {
   "cell_type": "code",
   "execution_count": 1,
   "metadata": {},
   "outputs": [],
   "source": [
    "def euclidean_algorithm(a, b):\n",
    "    \"\"\"\n",
    "    Находит НОД чисел a и b с помощью алгоритма Евклида\n",
    "    \"\"\"\n",
    "    # убеждаемся, что числа - целые и положительные\n",
    "    (a, b) = (abs(int(a)), abs(int(b))) \n",
    "\n",
    "    # по условнию 0 < b <= a, поэтому\n",
    "    if b > a: # если оно не выполняется\n",
    "        (a, b) = (b, a) # меняем a и b местами \n",
    "    \n",
    "    # поскольку на каждом шаге мы используем только два значения,\n",
    "    # сохранять будем только их\n",
    "    r = [a, b] # шаг 1; задаем r0 и r1\n",
    "\n",
    "    # шаги 2-3\n",
    "    while r[1] != 0: # пока r_{i+1} не равно нулю\n",
    "        # находим очередной остаток от деления и \n",
    "        # имитируем увеличение индекса, сдвигая значения\n",
    "        (r[0], r[1]) = (r[1], r[0] % r[1]) \n",
    "\n",
    "    return r[0] # шаг 4; d = r_i"
   ]
  },
  {
   "cell_type": "code",
   "execution_count": 2,
   "metadata": {},
   "outputs": [],
   "source": [
    "def pollard_rho_method(n, f, c = 1):\n",
    "    \"\"\"\n",
    "    Находит нетривиальный делитель числа n ро-методом Полларда на основе начального значения c и сжимающей функции f\n",
    "    \"\"\"\n",
    "    a = c; b = c # шаг 1\n",
    "\n",
    "    while True:\n",
    "        x = a            #\n",
    "        a = eval(f) % n  #\n",
    "                         #  шаг 2\n",
    "        x = b            #\n",
    "        x = eval(f)      #\n",
    "        b = eval(f) % n  #\n",
    "\n",
    "        d = euclidean_algorithm(abs(a - b), n) # шаг 3\n",
    "\n",
    "        if d > 1 and d < n:              #\n",
    "            return d                     #\n",
    "                                         # шаг 4\n",
    "        if d == n:                       #\n",
    "            print(\"Делитель не найден\")  #\n",
    "            return 0                     #"
   ]
  },
  {
   "cell_type": "code",
   "execution_count": 3,
   "metadata": {},
   "outputs": [
    {
     "name": "stdout",
     "output_type": "stream",
     "text": [
      "97\n",
      "83\n",
      "1181\n",
      "89\n",
      "419\n"
     ]
    }
   ],
   "source": [
    "print(pollard_rho_method(8051, \"x ** 2 + 1\"))\n",
    "print(pollard_rho_method(8051, \"x ** 2 + 3\"))\n",
    "\n",
    "print(pollard_rho_method(1359331, \"x ** 2 + 5\"))\n",
    "\n",
    "print(pollard_rho_method(13562997737, \"x ** 2 + 5\"))\n",
    "print(pollard_rho_method(13562997737, \"x ** 2 + 1\"))"
   ]
  }
 ],
 "metadata": {
  "interpreter": {
   "hash": "8cf50a1ebd007e3a5e0b436c2cd28c8d814512b11b6959a47dcb377c93a97cc5"
  },
  "kernelspec": {
   "display_name": "Python 3.7.5 64-bit (system)",
   "language": "python",
   "name": "python3"
  },
  "language_info": {
   "codemirror_mode": {
    "name": "ipython",
    "version": 3
   },
   "file_extension": ".py",
   "mimetype": "text/x-python",
   "name": "python",
   "nbconvert_exporter": "python",
   "pygments_lexer": "ipython3",
   "version": "3.7.5"
  },
  "orig_nbformat": 4
 },
 "nbformat": 4,
 "nbformat_minor": 2
}
