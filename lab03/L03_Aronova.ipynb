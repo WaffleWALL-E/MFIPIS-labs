{
 "cells": [
  {
   "cell_type": "code",
   "execution_count": 1,
   "metadata": {},
   "outputs": [],
   "source": [
    "abc_rus = [chr(code) for code in range(ord('а'), ord('я') + 1)] # русский алфавит\n",
    "abc_eng = [chr(code) for code in range(ord('a'), ord('z') + 1)] # английский алфавит\n",
    "\n",
    "# словарь вида {буква : её порядковый номер в.. \n",
    "letter2number_rus = {abc_rus[i] : i for i in range(len(abc_rus))} # русском алфавите} \n",
    "letter2number_eng = {abc_eng[i] : i for i in range(len(abc_eng))} # английском алфавите}\n",
    "\n",
    "abc = {\n",
    "    \"rus\" : abc_rus,\n",
    "    \"eng\" : abc_eng\n",
    "}\n",
    "\n",
    "letter2number = {\n",
    "    \"rus\" : letter2number_rus,\n",
    "    \"eng\" : letter2number_eng\n",
    "}"
   ]
  },
  {
   "cell_type": "code",
   "execution_count": 2,
   "metadata": {},
   "outputs": [],
   "source": [
    "def gamma_cipher(message, key, language):\n",
    "    \"\"\"\n",
    "    Шифрует сообщение message на языке language конечной гаммой key\n",
    "    \"\"\"\n",
    "    mes = message.lower() # приводим сообщение к нижнему регистру\n",
    "    n = len(abc[language]) # размерность алфавита\n",
    "\n",
    "    gamma = key.lower() # приводим гамму к нижнему регистру \n",
    "    while len(gamma) < len(mes): # пока она короче сообщения..\n",
    "        gamma += gamma[len(gamma) - len(key)] # дополняем её повторениями\n",
    "\n",
    "    message_encrypted = \"\" # криптограмма\n",
    "\n",
    "    for i in range(len(mes)): # для каждого символа в сообщении..\n",
    "        m = letter2number[language][mes[i]] # получаем его порядковый номер \n",
    "        g = letter2number[language][gamma[i]] # и номер соответствующего символа гаммы\n",
    "\n",
    "        message_encrypted += abc[language][(m + g) % n] # зашифровываем символ и добавляем его к криптограмме\n",
    "\n",
    "    return message_encrypted"
   ]
  },
  {
   "cell_type": "code",
   "execution_count": 3,
   "metadata": {},
   "outputs": [
    {
     "name": "stdout",
     "output_type": "stream",
     "text": [
      "трфцак\n",
      "gvxaznmgdlqtwmblystybuklgegodeonx\n"
     ]
    }
   ],
   "source": [
    "print(gamma_cipher(\"приказ\", \"гамма\", \"rus\"))\n",
    "print(gamma_cipher(\"NothingCanComeOfNothingSpeakAgain\", \"TheTragedyOfKingLear\", \"eng\"))"
   ]
  }
 ],
 "metadata": {
  "interpreter": {
   "hash": "8cf50a1ebd007e3a5e0b436c2cd28c8d814512b11b6959a47dcb377c93a97cc5"
  },
  "kernelspec": {
   "display_name": "Python 3.7.5 64-bit (system)",
   "language": "python",
   "name": "python3"
  },
  "language_info": {
   "codemirror_mode": {
    "name": "ipython",
    "version": 3
   },
   "file_extension": ".py",
   "mimetype": "text/x-python",
   "name": "python",
   "nbconvert_exporter": "python",
   "pygments_lexer": "ipython3",
   "version": "3.7.5"
  },
  "orig_nbformat": 4
 },
 "nbformat": 4,
 "nbformat_minor": 2
}
